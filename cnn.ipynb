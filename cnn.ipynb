{
  "nbformat": 4,
  "nbformat_minor": 0,
  "metadata": {
    "colab": {
      "provenance": []
    },
    "kernelspec": {
      "name": "python3",
      "display_name": "Python 3"
    },
    "language_info": {
      "name": "python"
    }
  },
  "cells": [
    {
      "cell_type": "code",
      "execution_count": null,
      "metadata": {
        "colab": {
          "base_uri": "https://localhost:8080/"
        },
        "id": "X2kszQKRVUT-",
        "outputId": "92310cbc-b9d1-4898-fffa-3bba3468d89d"
      },
      "outputs": [
        {
          "output_type": "stream",
          "name": "stdout",
          "text": [
            "Epoch 1/5\n",
            "177/177 [==============================] - 114s 634ms/step - loss: 2.8656 - accuracy: 0.1859 - val_loss: 2.4402 - val_accuracy: 0.3728\n",
            "Epoch 2/5\n",
            "177/177 [==============================] - 116s 654ms/step - loss: 1.8266 - accuracy: 0.5131 - val_loss: 1.4805 - val_accuracy: 0.5759\n",
            "Epoch 3/5\n",
            "177/177 [==============================] - 115s 652ms/step - loss: 1.1131 - accuracy: 0.6936 - val_loss: 1.2022 - val_accuracy: 0.6512\n",
            "Epoch 4/5\n",
            " 92/177 [==============>...............] - ETA: 50s - loss: 0.7526 - accuracy: 0.8173"
          ]
        }
      ],
      "source": [
        "import numpy as np\n",
        "from sklearn.datasets import fetch_20newsgroups\n",
        "from sklearn.model_selection import train_test_split\n",
        "from sklearn import metrics\n",
        "from tensorflow.keras.preprocessing.text import Tokenizer\n",
        "from tensorflow.keras.preprocessing.sequence import pad_sequences\n",
        "from tensorflow.keras.models import Sequential\n",
        "from tensorflow.keras.layers import Embedding, Conv1D, GlobalMaxPooling1D, Dense\n",
        "from tensorflow.keras.utils import to_categorical\n",
        "import matplotlib.pyplot as plt\n",
        "\n",
        "# Load the 20 Newsgroups dataset\n",
        "newsgroups = fetch_20newsgroups(subset='all', remove=('headers', 'footers', 'quotes'))\n",
        "\n",
        "# Split the data into training and testing sets\n",
        "X_train, X_test, y_train, y_test = train_test_split(newsgroups.data, newsgroups.target, test_size=0.25, random_state=42)\n",
        "\n",
        "# Tokenize and pad the text data\n",
        "max_sequence_length = 1000  # Adjust as needed\n",
        "tokenizer = Tokenizer(num_words=10000)  # You can adjust num_words as needed\n",
        "tokenizer.fit_on_texts(X_train)\n",
        "X_train_sequences = tokenizer.texts_to_sequences(X_train)\n",
        "X_test_sequences = tokenizer.texts_to_sequences(X_test)\n",
        "X_train_padded = pad_sequences(X_train_sequences, maxlen=max_sequence_length)\n",
        "X_test_padded = pad_sequences(X_test_sequences, maxlen=max_sequence_length)\n",
        "\n",
        "# Convert target labels to one-hot encoding\n",
        "y_train_onehot = to_categorical(y_train)\n",
        "y_test_onehot = to_categorical(y_test)\n",
        "\n",
        "# Create a CNN model\n",
        "model = Sequential()\n",
        "model.add(Embedding(input_dim=10000, output_dim=100, input_length=max_sequence_length))\n",
        "model.add(Conv1D(128, 5, activation='relu'))\n",
        "model.add(GlobalMaxPooling1D())\n",
        "model.add(Dense(20, activation='softmax'))  # 20 classes for 20 Newsgroups dataset\n",
        "\n",
        "# Compile the model\n",
        "model.compile(optimizer='adam', loss='categorical_crossentropy', metrics=['accuracy'])\n",
        "\n",
        "# Train the model and capture training history\n",
        "history = model.fit(X_train_padded, y_train_onehot, epochs=5, batch_size=64, validation_split=0.2)\n",
        "\n",
        "# Plot training loss and accuracy\n",
        "plt.figure(figsize=(12, 5))\n",
        "plt.subplot(1, 2, 1)\n",
        "plt.plot(history.history['loss'], label='Training Loss')\n",
        "plt.plot(history.history['val_loss'], label='Validation Loss')\n",
        "plt.xlabel('Epoch')\n",
        "plt.ylabel('Loss')\n",
        "plt.title('Training and Validation Loss')\n",
        "plt.legend()\n",
        "\n",
        "plt.subplot(1, 2, 2)\n",
        "plt.plot(history.history['accuracy'], label='Training Accuracy')\n",
        "plt.plot(history.history['val_accuracy'], label='Validation Accuracy')\n",
        "plt.xlabel('Epoch')\n",
        "plt.ylabel('Accuracy')\n",
        "plt.title('Training and Validation Accuracy')\n",
        "plt.legend()\n",
        "\n",
        "plt.tight_layout()\n",
        "plt.show()\n",
        "\n",
        "# Evaluate the model\n",
        "loss, accuracy = model.evaluate(X_test_padded, y_test_onehot)\n",
        "print(f\"Test Loss: {loss:.4f}\")\n",
        "print(f\"Test Accuracy: {accuracy:.4f}\")"
      ]
    },
    {
      "cell_type": "code",
      "source": [],
      "metadata": {
        "id": "zRKFe9xMVn_6"
      },
      "execution_count": null,
      "outputs": []
    }
  ]
}